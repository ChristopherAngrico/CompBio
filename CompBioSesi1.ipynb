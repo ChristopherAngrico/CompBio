{
  "nbformat": 4,
  "nbformat_minor": 0,
  "metadata": {
    "colab": {
      "provenance": []
    },
    "kernelspec": {
      "name": "python3",
      "display_name": "Python 3"
    },
    "language_info": {
      "name": "python"
    }
  },
  "cells": [
    {
      "cell_type": "markdown",
      "source": [
        "Pertemuan 1 Comp Bio\n",
        "\n",
        "CO : \n",
        "- Introduction BioPython[ ]\n",
        "- Working with sequence [ ]\n",
        "Sequence & Subsequence Manipulation\n",
        "\n",
        "- len \t\t\t[ ]\n",
        "- slicing \t\t[ ]\n",
        "- join \t\t\t[ ]\n",
        "- count \t\t[ ]\n",
        "- find, index \t\t[ ]\n",
        "- subseq, nt_search \t[ ]\n",
        "\n",
        "Nucleotide Frequency Plot\n",
        "- Counter (keys,values) [ ]\n",
        "- Bar \t\t\t[ ]"
      ],
      "metadata": {
        "id": "03LawlAtkLRJ"
      }
    },
    {
      "cell_type": "code",
      "execution_count": null,
      "metadata": {
        "id": "aQCNN8Eg34wW",
        "colab": {
          "base_uri": "https://localhost:8080/"
        },
        "outputId": "6676eece-2e7d-40a5-c463-d186ae602594"
      },
      "outputs": [
        {
          "output_type": "stream",
          "name": "stdout",
          "text": [
            "Looking in indexes: https://pypi.org/simple, https://us-python.pkg.dev/colab-wheels/public/simple/\n",
            "Collecting biopython\n",
            "  Downloading biopython-1.81-cp38-cp38-manylinux_2_17_x86_64.manylinux2014_x86_64.whl (3.1 MB)\n",
            "\u001b[2K     \u001b[90m━━━━━━━━━━━━━━━━━━━━━━━━━━━━━━━━━━━━━━━━\u001b[0m \u001b[32m3.1/3.1 MB\u001b[0m \u001b[31m30.3 MB/s\u001b[0m eta \u001b[36m0:00:00\u001b[0m\n",
            "\u001b[?25hRequirement already satisfied: numpy in /usr/local/lib/python3.8/dist-packages (from biopython) (1.21.6)\n",
            "Installing collected packages: biopython\n",
            "Successfully installed biopython-1.81\n"
          ]
        }
      ],
      "source": [
        "!pip install biopython"
      ]
    },
    {
      "cell_type": "code",
      "source": [
        "from Bio.Seq import Seq"
      ],
      "metadata": {
        "id": "PGizQ6PSjpiT"
      },
      "execution_count": null,
      "outputs": []
    },
    {
      "cell_type": "markdown",
      "source": [
        "Declare DNA & RNA"
      ],
      "metadata": {
        "id": "lVOG_DChQpGb"
      }
    },
    {
      "cell_type": "code",
      "source": [
        "sq1 = Seq('CGATCGATCGAT') #DNA\n",
        "sq2 = Seq('CGAUCGAU') #RNA"
      ],
      "metadata": {
        "id": "xqwz49QAQbm0"
      },
      "execution_count": null,
      "outputs": []
    },
    {
      "cell_type": "code",
      "source": [
        "print(sq1)\n",
        "print(sq2)"
      ],
      "metadata": {
        "colab": {
          "base_uri": "https://localhost:8080/"
        },
        "id": "p9H-1tNrkZ-5",
        "outputId": "03186857-f935-44c5-a64e-4d829250a52d"
      },
      "execution_count": null,
      "outputs": [
        {
          "output_type": "stream",
          "name": "stdout",
          "text": [
            "CGATCGATCGAT\n",
            "CGAUCGAU\n"
          ]
        }
      ]
    },
    {
      "cell_type": "markdown",
      "source": [
        "Slicing"
      ],
      "metadata": {
        "id": "PfIM_cMCs0zb"
      }
    },
    {
      "cell_type": "code",
      "source": [
        "print(sq1)\n",
        "# sq1[0:8:2]\n",
        "# [awal, akhir, lompatan]\n",
        "# len(sq1)\n",
        "sq1[11::-1]"
      ],
      "metadata": {
        "id": "6lAdI--wQcIo",
        "colab": {
          "base_uri": "https://localhost:8080/"
        },
        "outputId": "476529b4-607d-4722-895d-94b7035744eb"
      },
      "execution_count": null,
      "outputs": [
        {
          "output_type": "stream",
          "name": "stdout",
          "text": [
            "CGATCGATCGAT\n"
          ]
        },
        {
          "output_type": "execute_result",
          "data": {
            "text/plain": [
              "Seq('TAGCTAGCTAGC')"
            ]
          },
          "metadata": {},
          "execution_count": 20
        }
      ]
    },
    {
      "cell_type": "markdown",
      "source": [
        "Join"
      ],
      "metadata": {
        "id": "MKupI3WytlVm"
      }
    },
    {
      "cell_type": "code",
      "source": [
        "sqJoin = Seq('XX')\n",
        "newJoin = sq1[0:4:] + sqJoin\n",
        "print(newJoin)"
      ],
      "metadata": {
        "id": "Iky7kS2wtmhF",
        "colab": {
          "base_uri": "https://localhost:8080/"
        },
        "outputId": "8a4ffa37-b04f-47a3-faa3-b5309dabca80"
      },
      "execution_count": null,
      "outputs": [
        {
          "output_type": "stream",
          "name": "stdout",
          "text": [
            "CGATXX\n"
          ]
        }
      ]
    },
    {
      "cell_type": "markdown",
      "source": [
        "Count"
      ],
      "metadata": {
        "id": "3WW3N3zut0lA"
      }
    },
    {
      "cell_type": "code",
      "source": [
        "sq1.count('A')"
      ],
      "metadata": {
        "id": "gdWof8uyt0oW",
        "colab": {
          "base_uri": "https://localhost:8080/"
        },
        "outputId": "52eec793-fb3e-4a0c-df84-b9f6a696191c"
      },
      "execution_count": null,
      "outputs": [
        {
          "output_type": "execute_result",
          "data": {
            "text/plain": [
              "3"
            ]
          },
          "metadata": {},
          "execution_count": 34
        }
      ]
    },
    {
      "cell_type": "markdown",
      "source": [
        "Find, Index"
      ],
      "metadata": {
        "id": "TCi7ukmiuAD7"
      }
    },
    {
      "cell_type": "code",
      "source": [
        "print(sq1)\n",
        "sq1left = sq1.find('T') #nyari dari kiri\n",
        "sq1right = sq1.rfind('T') #nyari dari kanan\n",
        "print(sq1left)\n",
        "print(sq1right)\n",
        "\n",
        "sq1index = sq1.index('CG') #nyari index ke berapa\n",
        "print(sq1index)"
      ],
      "metadata": {
        "id": "Ni6vhTS6uAqf",
        "colab": {
          "base_uri": "https://localhost:8080/"
        },
        "outputId": "456744a1-a430-4031-bcca-5d57dd7b04a9"
      },
      "execution_count": null,
      "outputs": [
        {
          "output_type": "stream",
          "name": "stdout",
          "text": [
            "CGATCGATCGAT\n",
            "3\n",
            "11\n",
            "0\n"
          ]
        }
      ]
    },
    {
      "cell_type": "markdown",
      "source": [
        "Searching "
      ],
      "metadata": {
        "id": "iVMv-hR-uXxs"
      }
    },
    {
      "cell_type": "code",
      "source": [
        "from Bio.SeqUtils import nt_search"
      ],
      "metadata": {
        "id": "FLXzBFXPuc8X"
      },
      "execution_count": null,
      "outputs": []
    },
    {
      "cell_type": "code",
      "source": [
        "print(sq1)\n",
        "subseq = Seq('GATC')\n",
        "nt_search(str(sq1), str(subseq))"
      ],
      "metadata": {
        "id": "lXTXRLjRujtk",
        "colab": {
          "base_uri": "https://localhost:8080/"
        },
        "outputId": "ff7fa482-0624-4dd4-dcfc-1f015a9ecaea"
      },
      "execution_count": null,
      "outputs": [
        {
          "output_type": "stream",
          "name": "stdout",
          "text": [
            "CGATCGATCGAT\n"
          ]
        },
        {
          "output_type": "execute_result",
          "data": {
            "text/plain": [
              "['GATC', 1, 5]"
            ]
          },
          "metadata": {},
          "execution_count": 55
        }
      ]
    },
    {
      "cell_type": "markdown",
      "source": [
        " Counter (Menghitung komponen dari sequence)"
      ],
      "metadata": {
        "id": "RYDjE4NWvi2h"
      }
    },
    {
      "cell_type": "code",
      "source": [
        "from collections import Counter"
      ],
      "metadata": {
        "id": "UB8elV1GvnyF"
      },
      "execution_count": null,
      "outputs": []
    },
    {
      "cell_type": "code",
      "source": [
        "sq1 = Seq('GGCCAT')\n",
        "sq2 = Seq('CGATCCGGATAT')\n",
        "freq1 = Counter(sq1)\n",
        "freq2 = Counter(sq2)\n",
        "print(sq1)\n",
        "print(freq1)\n",
        "\n",
        "print(freq1.keys())\n",
        "print(freq1.values())\n",
        "print(freq2.keys())\n",
        "print(freq2.values())"
      ],
      "metadata": {
        "id": "ragOXxAYvrkQ",
        "colab": {
          "base_uri": "https://localhost:8080/"
        },
        "outputId": "547a3852-14a7-4ce3-98be-c72d955b3ba8"
      },
      "execution_count": null,
      "outputs": [
        {
          "output_type": "stream",
          "name": "stdout",
          "text": [
            "GGCCAT\n",
            "Counter({'G': 2, 'C': 2, 'A': 1, 'T': 1})\n",
            "dict_keys(['G', 'C', 'A', 'T'])\n",
            "dict_values([2, 2, 1, 1])\n",
            "dict_keys(['C', 'G', 'A', 'T'])\n",
            "dict_values([3, 3, 3, 3])\n"
          ]
        }
      ]
    },
    {
      "cell_type": "code",
      "source": [
        "from matplotlib import pyplot as plt"
      ],
      "metadata": {
        "id": "3IOhVdJwwmYh"
      },
      "execution_count": null,
      "outputs": []
    },
    {
      "cell_type": "code",
      "source": [
        "plt.bar(freq1.keys(), freq1.values(), 0.4, align=\"edge\", color = \"blue\")\n",
        "plt.bar(freq2.keys(), freq2.values(), -0.4, align=\"edge\", color = \"purple\")"
      ],
      "metadata": {
        "id": "H0IwRVdrwqpk",
        "colab": {
          "base_uri": "https://localhost:8080/",
          "height": 283
        },
        "outputId": "5bd782f7-c881-4fdb-f934-ef3538cd6f3c"
      },
      "execution_count": null,
      "outputs": [
        {
          "output_type": "execute_result",
          "data": {
            "text/plain": [
              "<BarContainer object of 4 artists>"
            ]
          },
          "metadata": {},
          "execution_count": 77
        },
        {
          "output_type": "display_data",
          "data": {
            "text/plain": [
              "<Figure size 432x288 with 1 Axes>"
            ],
            "image/png": "[encoded data removed]"
          },
          "metadata": {
            "needs_background": "light"
          }
        }
      ]
    },
    {
      "cell_type": "code",
      "source": [],
      "metadata": {
        "id": "e1AwNYqJwtxa"
      },
      "execution_count": null,
      "outputs": []
    }
  ]
}